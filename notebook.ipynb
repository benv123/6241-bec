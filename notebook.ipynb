{
 "cells": [
  {
   "cell_type": "markdown",
   "metadata": {},
   "source": [
    "# Thermometry Analysis for BEC Imaging"
   ]
  },
  {
   "cell_type": "markdown",
   "metadata": {},
   "source": [
    "Import statements"
   ]
  },
  {
   "cell_type": "code",
   "execution_count": 11,
   "metadata": {},
   "outputs": [
    {
     "name": "stdout",
     "output_type": "stream",
     "text": [
      "Requirement already satisfied: matplotlib in ./venv/lib/python3.13/site-packages (3.10.1)\n",
      "Requirement already satisfied: contourpy>=1.0.1 in ./venv/lib/python3.13/site-packages (from matplotlib) (1.3.2)\n",
      "Requirement already satisfied: cycler>=0.10 in ./venv/lib/python3.13/site-packages (from matplotlib) (0.12.1)\n",
      "Requirement already satisfied: fonttools>=4.22.0 in ./venv/lib/python3.13/site-packages (from matplotlib) (4.57.0)\n",
      "Requirement already satisfied: kiwisolver>=1.3.1 in ./venv/lib/python3.13/site-packages (from matplotlib) (1.4.8)\n",
      "Requirement already satisfied: numpy>=1.23 in ./venv/lib/python3.13/site-packages (from matplotlib) (2.2.5)\n",
      "Requirement already satisfied: packaging>=20.0 in ./venv/lib/python3.13/site-packages (from matplotlib) (25.0)\n",
      "Requirement already satisfied: pillow>=8 in ./venv/lib/python3.13/site-packages (from matplotlib) (11.2.1)\n",
      "Requirement already satisfied: pyparsing>=2.3.1 in ./venv/lib/python3.13/site-packages (from matplotlib) (3.2.3)\n",
      "Requirement already satisfied: python-dateutil>=2.7 in ./venv/lib/python3.13/site-packages (from matplotlib) (2.9.0.post0)\n",
      "Requirement already satisfied: six>=1.5 in ./venv/lib/python3.13/site-packages (from python-dateutil>=2.7->matplotlib) (1.17.0)\n",
      "\n",
      "\u001b[1m[\u001b[0m\u001b[34;49mnotice\u001b[0m\u001b[1;39;49m]\u001b[0m\u001b[39;49m A new release of pip is available: \u001b[0m\u001b[31;49m25.0.1\u001b[0m\u001b[39;49m -> \u001b[0m\u001b[32;49m25.1\u001b[0m\n",
      "\u001b[1m[\u001b[0m\u001b[34;49mnotice\u001b[0m\u001b[1;39;49m]\u001b[0m\u001b[39;49m To update, run: \u001b[0m\u001b[32;49mpip install --upgrade pip\u001b[0m\n",
      "Collecting scipy\n",
      "  Using cached scipy-1.15.2-cp313-cp313-macosx_14_0_arm64.whl.metadata (61 kB)\n",
      "Requirement already satisfied: numpy<2.5,>=1.23.5 in ./venv/lib/python3.13/site-packages (from scipy) (2.2.5)\n",
      "Using cached scipy-1.15.2-cp313-cp313-macosx_14_0_arm64.whl (22.4 MB)\n",
      "Installing collected packages: scipy\n",
      "Successfully installed scipy-1.15.2\n",
      "\n",
      "\u001b[1m[\u001b[0m\u001b[34;49mnotice\u001b[0m\u001b[1;39;49m]\u001b[0m\u001b[39;49m A new release of pip is available: \u001b[0m\u001b[31;49m25.0.1\u001b[0m\u001b[39;49m -> \u001b[0m\u001b[32;49m25.1\u001b[0m\n",
      "\u001b[1m[\u001b[0m\u001b[34;49mnotice\u001b[0m\u001b[1;39;49m]\u001b[0m\u001b[39;49m To update, run: \u001b[0m\u001b[32;49mpip install --upgrade pip\u001b[0m\n"
     ]
    }
   ],
   "source": [
    "!pip install matplotlib\n",
    "!pip install scipy"
   ]
  },
  {
   "cell_type": "code",
   "execution_count": 12,
   "metadata": {
    "vscode": {
     "languageId": "plaintext"
    }
   },
   "outputs": [],
   "source": [
    "import numpy as np\n",
    "import matplotlib.pyplot as plt\n",
    "from scipy.optimize import curve_fit\n",
    "from PIL import Image\n",
    "import os\n",
    "from ipywidgets import interact, widgets"
   ]
  },
  {
   "cell_type": "markdown",
   "metadata": {},
   "source": [
    "Load and preprocess images."
   ]
  },
  {
   "cell_type": "code",
   "execution_count": 13,
   "metadata": {
    "vscode": {
     "languageId": "plaintext"
    }
   },
   "outputs": [],
   "source": [
    "def load_image(path):\n",
    "    \"\"\"\n",
    "    Load an absorption image and convert to grayscale float array\n",
    "    \"\"\"\n",
    "    image = Image.open(path).convert('L')\n",
    "    return np.array(image).astype(float)\n",
    "\n",
    "def crop_center(image, size=(200, 200)):\n",
    "    \"\"\"\n",
    "    Crop center region of image to focus on atomic cloud\n",
    "    \"\"\"\n",
    "    center = tuple(map(lambda x: x // 2, image.shape))\n",
    "    h, w = size\n",
    "    return image[center[0] - h//2 : center[0] + h//2,\n",
    "                 center[1] - w//2 : center[1] + w//2]"
   ]
  },
  {
   "cell_type": "markdown",
   "metadata": {},
   "source": [
    "Generate 1D profile for 2D image"
   ]
  },
  {
   "cell_type": "code",
   "execution_count": 19,
   "metadata": {},
   "outputs": [],
   "source": [
    "def generate_1D_profile(image, axis=0):\n",
    "    \"\"\"\n",
    "    Sum image along the given axis to create a 1D density profile\n",
    "    axis=0 → vertical sum → profile along x\n",
    "    axis=1 → horizontal sum → profile along y\n",
    "    \"\"\"\n",
    "    return np.sum(image, axis=axis)"
   ]
  },
  {
   "cell_type": "code",
   "execution_count": 34,
   "metadata": {},
   "outputs": [
    {
     "name": "stdout",
     "output_type": "stream",
     "text": [
      "[ 2000.  2000.  2000.  2031.  2047.  2061.  2071.  2079.  2087.  2102.\n",
      "  2138.  2158.  2176.  2190.  2237.  2265.  2285.  2338.  2370.  2423.\n",
      "  2463.  2522.  2572.  2637.  2698.  2764.  2841.  2926.  3009.  3102.\n",
      "  3197.  3306.  3417.  3538.  3657.  3793.  3938.  4084.  4244.  4412.\n",
      "  4580.  4761.  4951.  5151.  5364.  5596.  5818.  6057.  6311.  6571.\n",
      "  6843.  7114.  7409.  7708.  8013.  8332.  8662.  8986.  9332.  9677.\n",
      " 10039. 10404. 10780. 11161. 11535. 11933. 12315. 12707. 13115. 13514.\n",
      " 13914. 14306. 14714. 15098. 15501. 15897. 16281. 16661. 17032. 17396.\n",
      " 17755. 18112. 18440. 18769. 19082. 19381. 19654. 19929. 20176. 20414.\n",
      " 20631. 20839. 21015. 21172. 21314. 21435. 21536. 21597. 21671. 21699.\n",
      " 21708. 21699. 21671. 21597. 21536. 21435. 21314. 21172. 21015. 20839.\n",
      " 20631. 20414. 20176. 19929. 19654. 19381. 19082. 18769. 18440. 18112.\n",
      " 17755. 17396. 17032. 16661. 16281. 15897. 15501. 15098. 14714. 14306.\n",
      " 13914. 13514. 13115. 12707. 12315. 11933. 11535. 11161. 10780. 10404.\n",
      " 10039.  9677.  9332.  8986.  8662.  8332.  8013.  7708.  7409.  7114.\n",
      "  6843.  6571.  6311.  6057.  5818.  5596.  5364.  5151.  4951.  4761.\n",
      "  4580.  4412.  4244.  4084.  3938.  3793.  3657.  3538.  3417.  3306.\n",
      "  3197.  3102.  3009.  2926.  2841.  2764.  2698.  2637.  2572.  2522.\n",
      "  2463.  2423.  2370.  2338.  2285.  2265.  2237.  2190.  2176.  2158.\n",
      "  2138.  2102.  2087.  2079.  2071.  2061.  2047.  2031.  2000.  2000.]\n"
     ]
    }
   ],
   "source": [
    "print(generate_1D_profile(crop_center(load_image('synthetic_TOF_image.png'))))"
   ]
  },
  {
   "cell_type": "markdown",
   "metadata": {},
   "source": [
    "Define fit functions for TOF (time of flight, destructive) and in-situ (in place, nondestructive)."
   ]
  },
  {
   "cell_type": "code",
   "execution_count": 20,
   "metadata": {
    "vscode": {
     "languageId": "plaintext"
    }
   },
   "outputs": [],
   "source": [
    "def gaussian(x, A, x0, sigma, offset):\n",
    "    \"\"\"\n",
    "    Gaussian fit\n",
    "    \"\"\"\n",
    "    return A * np.exp(-(x - x0)**2 / (2 * sigma**2)) + offset\n",
    "\n",
    "def bimodal(x, A_T, x0, sigma_T, A_BEC, R, offset):\n",
    "    \"\"\"\n",
    "    Bimodal fit = Gaussian (thermal) + Thomas-Fermi (condensate)\n",
    "    \"\"\"\n",
    "    tf = np.clip(A_BEC * (1 - ((x - x0)/R)**2), 0, None)**1.5\n",
    "    # gauss = A_T * np.exp(-(x - x0)**2 / (2 * sigma_T**2))\n",
    "    gauss = gaussian(x, A_T, x0, sigma_T, 0)\n",
    "    return tf + gauss + offset"
   ]
  },
  {
   "cell_type": "markdown",
   "metadata": {},
   "source": [
    "Fit profile and calculate temperature."
   ]
  },
  {
   "cell_type": "code",
   "execution_count": 21,
   "metadata": {
    "vscode": {
     "languageId": "plaintext"
    }
   },
   "outputs": [],
   "source": [
    "def fit_profile(image, use_bimodal=False):\n",
    "    \"\"\"\n",
    "    Fit either a Gaussian or a bimodal (BEC + thermal) profile\n",
    "    \"\"\"\n",
    "    profile = generate_1D_profile(image)\n",
    "    x = np.arange(len(profile))\n",
    "    \n",
    "    if use_bimodal:\n",
    "        # Initial guess: [thermal amp, center, width, BEC amp, TF radius, offset]\n",
    "        p0 = [np.max(profile), len(profile)//2, 20, np.max(profile)/2, 30, np.min(profile)]\n",
    "        popt, pcov = curve_fit(bimodal, x, profile, p0=p0)\n",
    "    else:\n",
    "        # Initial guess: [amp, center, width, offset]\n",
    "        p0 = [np.max(profile), len(profile)//2, 20, np.min(profile)]\n",
    "        popt, pcov = curve_fit(gaussian, x, profile, p0=p0)\n",
    "\n",
    "    return popt, pcov\n",
    "\n",
    "\n",
    "kB = 1.381e-23 # Boltzmann constant\n",
    "atom_mass_kg = 1.409e-25 # mass of Rb85\n",
    "\n",
    "def calculate_temperature(sigma_pixels, pixel_size_um, time_ms):\n",
    "    \"\"\"\n",
    "    Calculate temperature from thermal width using TOF: T = m*σ^2 / (kB * t^2)\n",
    "    \"\"\"\n",
    "    sigma_m = sigma_pixels * pixel_size_um * 1e-6  # pixels → meters\n",
    "    time_s = time_ms * 1e-3  # ms → seconds\n",
    "    T = (atom_mass_kg * sigma_m**2) / (kB * time_s**2)\n",
    "    return T  # [Kelvin]\n",
    "\n",
    "def calculate_condensate_fraction(popt, use_bimodal=True):\n",
    "    \"\"\"\n",
    "    Estimate condensate fraction from bimodal fit areas\n",
    "    \"\"\"\n",
    "    if not use_bimodal: return None\n",
    "    A_T, x0, sigma_T, A_BEC, R, offset = popt\n",
    "\n",
    "    area_thermal = A_T * sigma_T * np.sqrt(2 * np.pi) # area under Gaussian (thermal)\n",
    "    area_BEC = (16/15) * A_BEC * R # area under Thomas-Fermi (BEC)\n",
    "    condensate_fraction = area_BEC / (area_BEC + area_thermal)\n",
    "    return condensate_fraction"
   ]
  },
  {
   "cell_type": "markdown",
   "metadata": {},
   "source": [
    "Full analysis"
   ]
  },
  {
   "cell_type": "code",
   "execution_count": 26,
   "metadata": {},
   "outputs": [],
   "source": [
    "def analyze_image(filepath, pixel_size_um=5.0, time_ms=20.0, axis=0, use_bimodal=False):\n",
    "    \"\"\"\n",
    "    Complete analysis: load image, fit profile, extract T and optionally condensate fraction\n",
    "    \"\"\"\n",
    "    image = load_image(filepath)\n",
    "    cropped = crop_center(image)\n",
    "    profile = generate_1D_profile(cropped, axis=axis)\n",
    "    x = np.arange(len(profile))\n",
    "    #popt, _ = fit_profile(image, use_bimodal=use_bimodal)\n",
    "    popt, _ = fit_profile(x, profile, use_bimodal=use_bimodal)\n",
    "    #if use_bimodal: sigma_T = popt[2] # thermal width from Gaussian part\n",
    "    #else: sigma_T = popt[2] # thermal width from pure Gaussian fit\n",
    "    sigma_T = popt[2]\n",
    "    # Calculate temperature\n",
    "    T = calculate_temperature(sigma_T, pixel_size_um, time_ms)\n",
    "\n",
    "    # (Optionally) calculate Condensate Fraction\n",
    "    condensate_fraction = None\n",
    "    if use_bimodal:\n",
    "        condensate_fraction = calculate_condensate_fraction(popt, use_bimodal=use_bimodal)\n",
    "    \n",
    "    # Plot\n",
    "    plt.figure(figsize=(8,5))\n",
    "    plt.plot(x, profile, 'b.', label='Data')\n",
    "    if use_bimodal:\n",
    "        plt.plot(x, bimodal(x, *popt), 'r-', label='Bimodal Fit')\n",
    "    else:\n",
    "        plt.plot(x, gaussian(x, *popt), 'r-', label='Gaussian Fit')\n",
    "    plt.xlabel('Pixel')\n",
    "    plt.ylabel('Integrated Optical Density')\n",
    "    plt.legend()\n",
    "    plt.title(f'Temperature: {T*1e9:.1f} nK')\n",
    "    plt.grid()\n",
    "    plt.show()\n",
    "    \n",
    "    return T, condensate_fraction\n"
   ]
  },
  {
   "cell_type": "code",
   "execution_count": null,
   "metadata": {},
   "outputs": [],
   "source": [
    "def analyze_image_array(image_array, pixel_size_um=5.0, time_ms=20.0, axis=0, use_bimodal=False):\n",
    "    \"\"\"\n",
    "    Analyze a given grayscale image array, fit profile, extract temperature,\n",
    "    and optionally extract condensate fraction.\n",
    "    \"\"\"\n",
    "    cropped = crop_center(image_array)\n",
    "    profile = generate_1D_profile(cropped, axis=axis)\n",
    "    x = np.arange(len(profile))\n",
    "\n",
    "    if use_bimodal:\n",
    "        p0 = [np.max(profile), len(profile)//2, 20, np.max(profile)/2, 30, np.min(profile)]\n",
    "        popt, _ = curve_fit(bimodal, x, profile, p0=p0)\n",
    "        sigma_T = popt[2]\n",
    "    else:\n",
    "        p0 = [np.max(profile), len(profile)//2, 20, np.min(profile)]\n",
    "        popt, _ = curve_fit(gaussian, x, profile, p0=p0)\n",
    "        sigma_T = popt[2]\n",
    "\n",
    "    T = calculate_temperature(sigma_T, pixel_size_um, time_ms)\n",
    "    condensate_fraction = calculate_condensate_fraction(popt) if use_bimodal else None\n",
    "\n",
    "    # Plot result\n",
    "    plt.figure(figsize=(8, 5))\n",
    "    plt.plot(x, profile, 'b.', label='Data')\n",
    "    fit_func = bimodal if use_bimodal else gaussian\n",
    "    plt.plot(x, fit_func(x, *popt), 'r-', label='Fit')\n",
    "    plt.xlabel('Pixel')\n",
    "    plt.ylabel('Integrated OD')\n",
    "    plt.title(f'Temperature: {T*1e9:.1f} nK')\n",
    "    plt.legend()\n",
    "    plt.grid()\n",
    "    plt.show()\n",
    "\n",
    "    return T, condensate_fraction"
   ]
  },
  {
   "cell_type": "markdown",
   "metadata": {},
   "source": [
    "Analyze an absorption image"
   ]
  },
  {
   "cell_type": "code",
   "execution_count": 38,
   "metadata": {
    "scrolled": true
   },
   "outputs": [
    {
     "data": {
      "image/png": "[encoded data removed]",
      "text/plain": [
       "<Figure size 800x500 with 1 Axes>"
      ]
     },
     "metadata": {},
     "output_type": "display_data"
    },
    {
     "name": "stdout",
     "output_type": "stream",
     "text": [
      "1.1732675503549289e-07\n",
      "Extracted Temperature: 117.33 nK\n",
      "Condensate Fraction: -2.74%\n"
     ]
    }
   ],
   "source": [
    "T, condensate_fraction = analyze_image(\n",
    "    filepath='ss.png', \n",
    "    pixel_size_um=5.0,  # pixel size of camera\n",
    "    time_ms=20.0,       # TOF time in milliseconds\n",
    "    axis=0,             # sum vertically to get x profile\n",
    "    use_bimodal=True    # fit BEC + thermal cloud\n",
    ")\n",
    "print(T)\n",
    "print(f\"Extracted Temperature: {T*1e9:.2f} nK\")\n",
    "if condensate_fraction is not None:\n",
    "    print(f\"Condensate Fraction: {condensate_fraction*100:.2f}%\")"
   ]
  },
  {
   "cell_type": "code",
   "execution_count": null,
   "metadata": {},
   "outputs": [],
   "source": []
  },
  {
   "cell_type": "markdown",
   "metadata": {},
   "source": [
    "Testing camera"
   ]
  },
  {
   "cell_type": "code",
   "execution_count": 2,
   "metadata": {},
   "outputs": [
    {
     "name": "stdout",
     "output_type": "stream",
     "text": [
      "Collecting opencv-python\n",
      "  Downloading opencv_python-4.11.0.86-cp37-abi3-macosx_13_0_arm64.whl.metadata (20 kB)\n",
      "Collecting numpy>=1.21.2 (from opencv-python)\n",
      "  Using cached numpy-2.2.5-cp313-cp313-macosx_14_0_arm64.whl.metadata (62 kB)\n",
      "Downloading opencv_python-4.11.0.86-cp37-abi3-macosx_13_0_arm64.whl (37.3 MB)\n",
      "\u001b[2K   \u001b[38;2;114;156;31m━━━━━━━━━━━━━━━━━━━━━━━━━━━━━━━━━━━━━━━━\u001b[0m \u001b[32m37.3/37.3 MB\u001b[0m \u001b[31m1.9 MB/s\u001b[0m eta \u001b[36m0:00:00\u001b[0m[36m0:00:01\u001b[0mm eta \u001b[36m0:00:01\u001b[0m\n",
      "\u001b[?25hUsing cached numpy-2.2.5-cp313-cp313-macosx_14_0_arm64.whl (5.1 MB)\n",
      "Installing collected packages: numpy, opencv-python\n",
      "Successfully installed numpy-2.2.5 opencv-python-4.11.0.86\n",
      "\n",
      "\u001b[1m[\u001b[0m\u001b[34;49mnotice\u001b[0m\u001b[1;39;49m]\u001b[0m\u001b[39;49m A new release of pip is available: \u001b[0m\u001b[31;49m25.0.1\u001b[0m\u001b[39;49m -> \u001b[0m\u001b[32;49m25.1\u001b[0m\n",
      "\u001b[1m[\u001b[0m\u001b[34;49mnotice\u001b[0m\u001b[1;39;49m]\u001b[0m\u001b[39;49m To update, run: \u001b[0m\u001b[32;49mpip install --upgrade pip\u001b[0m\n"
     ]
    }
   ],
   "source": [
    "!pip install opencv-python\n",
    "!pip install pyserial"
   ]
  },
  {
   "cell_type": "code",
   "execution_count": null,
   "metadata": {},
   "outputs": [],
   "source": []
  },
  {
   "cell_type": "markdown",
   "metadata": {},
   "source": [
    "If the temperature extraction doesn't work, the image-saving should and then I'll have test images to work with.\n",
    "\n",
    "This assumes that the Arduino shutter has been set up in a similar way to the code in 'shutter.ino', to send a signal when it opens."
   ]
  },
  {
   "cell_type": "code",
   "execution_count": null,
   "metadata": {},
   "outputs": [],
   "source": [
    "num = 0"
   ]
  },
  {
   "cell_type": "code",
   "execution_count": null,
   "metadata": {},
   "outputs": [],
   "source": [
    "def capture_image_and_analyze(\n",
    "    serial_port='/dev/ttyACM0',\n",
    "    baudrate=9600,\n",
    "    camera_index=0,\n",
    "    exposure_value=-6,\n",
    "    tof_delay_ms=20,\n",
    "    pixel_size_um=5.0,\n",
    "    use_bimodal=True,\n",
    "    save_path=f'images/tof_image_{num}.png'\n",
    "):\n",
    "    \"\"\"\n",
    "    Wait for Arduino shutter signal, capture grayscale image with ELP HD USB camera,\n",
    "    save and analyze temperature via TOF thermometry.\n",
    "    \"\"\"\n",
    "    # Set up serial communication with Arduino\n",
    "    ser = serial.Serial(serial_port, baudrate, timeout=2)\n",
    "    time.sleep(2)\n",
    "\n",
    "    # Set up camera\n",
    "    cap = cv2.VideoCapture(camera_index)\n",
    "    cap.set(cv2.CAP_PROP_FRAME_WIDTH, 1280)\n",
    "    cap.set(cv2.CAP_PROP_FRAME_HEIGHT, 720)\n",
    "    cap.set(cv2.CAP_PROP_AUTO_EXPOSURE, 0.25) # manual exposure\n",
    "    cap.set(cv2.CAP_PROP_EXPOSURE, exposure_value)\n",
    "    time.sleep(1.0)\n",
    "\n",
    "    print(\"Waiting for SHUTTER_OPEN signal from Arduino...\")\n",
    "\n",
    "    while True:\n",
    "        if ser.in_waiting:\n",
    "            line = ser.readline().decode('utf-8').strip()\n",
    "            print(f\"Arduino says: {line}\")\n",
    "            if line == \"SHUTTER_OPEN\":\n",
    "                ret, frame = cap.read()\n",
    "                if not ret:\n",
    "                    print(\"Failed to capture frame.\")\n",
    "                    break\n",
    "\n",
    "                gray = frame if len(frame.shape) == 2 else cv2.cvtColor(frame, cv2.COLOR_BGR2GRAY)\n",
    "                cv2.imwrite(save_path, gray)\n",
    "                print(f\"Image saved to {save_path}\")\n",
    "\n",
    "                T, frac = analyze_image_array(\n",
    "                    gray,\n",
    "                    pixel_size_um=pixel_size_um,\n",
    "                    time_ms=tof_delay_ms,\n",
    "                    use_bimodal=use_bimodal\n",
    "                )\n",
    "                print(f\"Extracted Temperature: {T*1e9:.2f} nK\")\n",
    "                if frac is not None:\n",
    "                    print(f\"Condensate Fraction: {frac*100:.2f}%\")\n",
    "                break\n",
    "\n",
    "    cap.release()\n",
    "    ser.close()"
   ]
  },
  {
   "cell_type": "code",
   "execution_count": null,
   "metadata": {},
   "outputs": [],
   "source": [
    "capture_image_and_analyze(\n",
    "    serial_port='/dev/ttyACM0', # adjust as needed\n",
    "    baudrate=9600,\n",
    "    camera_index=0,\n",
    "    exposure_value=-6,\n",
    "    tof_delay_ms=20,\n",
    "    pixel_size_um=5.0,\n",
    "    use_bimodal=False,\n",
    "    save_path='tof_image.png'\n",
    ")"
   ]
  },
  {
   "cell_type": "markdown",
   "metadata": {},
   "source": [
    "New"
   ]
  },
  {
   "cell_type": "code",
   "execution_count": null,
   "metadata": {},
   "outputs": [],
   "source": [
    "import numpy as np\n",
    "import matplotlib.pyplot as plt\n",
    "from scipy.optimize import curve_fit\n",
    "from PIL import Image\n",
    "\n",
    "# Load PNGs\n",
    "atom = np.array(Image.open(\"atom.png\").convert(\"L\")).astype(float)\n",
    "ref = np.array(Image.open(\"ref.png\").convert(\"L\")).astype(float)\n",
    "dark = np.array(Image.open(\"dark.png\").convert(\"L\")).astype(float)\n",
    "\n",
    "# Compute optical density (OD)\n",
    "I_atom = atom - dark\n",
    "I_ref = ref - dark\n",
    "I_atom[I_atom <= 1] = 1\n",
    "I_ref[I_ref <= 1] = 1\n",
    "OD = np.log(I_ref / I_atom)\n",
    "\n",
    "# Fit a 2D Gaussian: A * exp(-((x-x0)^2/2sx^2 + (y-y0)^2/2sy^2)) + offset\n",
    "def gaussian_2d(XY, A, x0, y0, sx, sy, offset):\n",
    "    x, y = XY\n",
    "    return A * np.exp(-((x - x0)**2 / (2 * sx**2) + (y - y0)**2 / (2 * sy**2))) + offset\n",
    "\n",
    "# Generate grid\n",
    "ny, nx = OD.shape\n",
    "x = np.linspace(-nx/2, nx/2, nx)\n",
    "y = np.linspace(-ny/2, ny/2, ny)\n",
    "X, Y = np.meshgrid(x, y)\n",
    "XY = np.vstack([X.ravel(), Y.ravel()])\n",
    "OD_flat = OD.ravel()\n",
    "\n",
    "# Fit\n",
    "# [A, x0, y0, sx, sy, offset]\n",
    "p0 = [1.0, 0.0, 0.0, 30.0, 30.0, 0.05]\n",
    "popt, _ = curve_fit(gaussian_2d, XY, OD_flat, p0=p0)\n",
    "OD_fit = gaussian_2d((X, Y), *popt).reshape(ny, nx)\n",
    "\n",
    "# Plot results\n",
    "fig, axs = plt.subplots(1, 3, figsize=(15, 4))\n",
    "axs[0].imshow(OD, cmap=\"viridis\", origin=\"lower\")\n",
    "axs[0].set_title(\"OD Image\")\n",
    "axs[1].imshow(OD_fit, cmap=\"viridis\", origin=\"lower\")\n",
    "axs[1].set_title(\"Fitted Gaussian\")\n",
    "axs[2].imshow(OD - OD_fit, cmap=\"bwr\", origin=\"lower\")\n",
    "axs[2].set_title(\"Residual\")\n",
    "plt.tight_layout()\n",
    "plt.show()\n",
    "\n",
    "# Show fit results\n",
    "labels = [\"Amplitude\", \"x0\", \"y0\", \"sigma_x\", \"sigma_y\", \"offset\"]\n",
    "for name, val in zip(labels, popt):\n",
    "    print(f\"{name:10s} = {val:.2f}\")\n"
   ]
  }
 ],
 "metadata": {
  "kernelspec": {
   "display_name": "Python 3 (ipykernel)",
   "language": "python",
   "name": "python3"
  },
  "language_info": {
   "codemirror_mode": {
    "name": "ipython",
    "version": 3
   },
   "file_extension": ".py",
   "mimetype": "text/x-python",
   "name": "python",
   "nbconvert_exporter": "python",
   "pygments_lexer": "ipython3",
   "version": "3.13.3"
  }
 },
 "nbformat": 4,
 "nbformat_minor": 4
}
